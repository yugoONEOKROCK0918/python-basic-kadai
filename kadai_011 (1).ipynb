{
  "nbformat": 4,
  "nbformat_minor": 0,
  "metadata": {
    "colab": {
      "provenance": []
    },
    "kernelspec": {
      "name": "python3",
      "display_name": "Python 3"
    },
    "language_info": {
      "name": "python"
    }
  },
  "cells": [
    {
      "cell_type": "code",
      "execution_count": 2,
      "metadata": {
        "colab": {
          "base_uri": "https://localhost:8080/"
        },
        "id": "lLEPb4bvm76d",
        "outputId": "9b629518-2e90-467d-fae3-531c9f11e068"
      },
      "outputs": [
        {
          "output_type": "stream",
          "name": "stdout",
          "text": [
            "330.0\n"
          ]
        }
      ],
      "source": [
        "# グローバル変数を定義する\n",
        "tax=1.1\n",
        "price1=100\n",
        "price2=200\n",
        "\n",
        "def total():\n",
        "  # ローカル関数内で、グローバル関数を定義する\n",
        "  global price1,price2\n",
        "  return price1+price2\n",
        "\n",
        "print(total()*tax)\n",
        "\n"
      ]
    },
    {
      "cell_type": "code",
      "source": [],
      "metadata": {
        "id": "tbJ_ZuLNn9y_"
      },
      "execution_count": null,
      "outputs": []
    }
  ]
}