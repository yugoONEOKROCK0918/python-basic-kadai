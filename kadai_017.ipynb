{
  "nbformat": 4,
  "nbformat_minor": 0,
  "metadata": {
    "colab": {
      "provenance": []
    },
    "kernelspec": {
      "name": "python3",
      "display_name": "Python 3"
    },
    "language_info": {
      "name": "python"
    }
  },
  "cells": [
    {
      "cell_type": "code",
      "execution_count": 3,
      "metadata": {
        "colab": {
          "base_uri": "https://localhost:8080/"
        },
        "id": "LqZaRdmsbT-0",
        "outputId": "84817b93-cf63-486a-b986-998330ff7b3b"
      },
      "outputs": [
        {
          "output_type": "stream",
          "name": "stdout",
          "text": [
            "大人ではありません\n",
            "大人です\n",
            "大人ではありません\n",
            "大人ではありません\n"
          ]
        }
      ],
      "source": [
        "class Human:\n",
        "  def __init__(self,name,age):\n",
        "    self.name=name\n",
        "    self.age=age\n",
        "  def check_adult(self):\n",
        "    if self.age>=20:\n",
        "      print(\"大人です\")\n",
        "    else:\n",
        "      print(\"大人ではありません\")\n",
        "\n",
        "horio=Human(\"Yugo\",19)\n",
        "father=Human(\"Mitsuhiro\",41)\n",
        "sister=Human(\"Rika\",8)\n",
        "brother=Human(\"Jo\",3)\n",
        "\n",
        "family=[horio,father,sister,brother]\n",
        "\n",
        "for member in family:\n",
        "  member.check_adult()\n"
      ]
    },
    {
      "cell_type": "code",
      "source": [],
      "metadata": {
        "id": "pn7v9lFHbsZg"
      },
      "execution_count": null,
      "outputs": []
    }
  ]
}