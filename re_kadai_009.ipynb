{
  "nbformat": 4,
  "nbformat_minor": 0,
  "metadata": {
    "colab": {
      "provenance": []
    },
    "kernelspec": {
      "name": "python3",
      "display_name": "Python 3"
    },
    "language_info": {
      "name": "python"
    }
  },
  "cells": [
    {
      "cell_type": "code",
      "execution_count": 13,
      "metadata": {
        "colab": {
          "base_uri": "https://localhost:8080/"
        },
        "id": "r_ruzKdGd_6e",
        "outputId": "a8978ada-e4dc-4238-ad5c-7c16bacaade4"
      },
      "outputs": [
        {
          "output_type": "stream",
          "name": "stdout",
          "text": [
            "水\n",
            "金\n",
            "地\n",
            "火\n",
            "木\n",
            "土\n",
            "天\n",
            "海\n",
            "冥\n",
            "水\n",
            "金\n",
            "地\n",
            "火\n",
            "木\n",
            "土\n",
            "天\n",
            "海\n",
            "冥\n"
          ]
        }
      ],
      "source": [
        "array = [\"水\",\"金\",\"地\",\"火\",\"木\",\"土\",\"天\",\"海\",\"冥\"]\n",
        "for y in array:\n",
        "    print(y)\n",
        "\n",
        "# カウント変数宣言\n",
        "c=0\n",
        "\n",
        "list_length=9\n",
        "\n",
        "while c<list_length:\n",
        "    print(array[c])\n",
        "    c=c+1\n",
        "\n",
        "\n",
        "\n",
        "\n",
        "\n",
        "\n",
        "\n",
        "\n",
        "\n",
        "\n",
        "\n",
        "\n",
        ""
      ]
    },
    {
      "cell_type": "code",
      "source": [
        "def say_morning():\n",
        "  print(\"おはよう\")\n",
        "\n",
        "say_morning()"
      ],
      "metadata": {
        "colab": {
          "base_uri": "https://localhost:8080/"
        },
        "id": "s1AxtsrDlUUZ",
        "outputId": "3c129dc1-ef05-4acb-db67-f5250abd613b"
      },
      "execution_count": 7,
      "outputs": [
        {
          "output_type": "stream",
          "name": "stdout",
          "text": [
            "おはよう\n"
          ]
        }
      ]
    },
    {
      "cell_type": "code",
      "source": [
        "# 朝のあいさつを出力する関数を作成する\n",
        "def say_good_morning():\n",
        "    print(\"おはようございます！\")\n",
        "    print(\"昨日はよく眠れましたか？\")\n",
        "    print(\"今日も一日頑張りましょう！\")\n",
        "\n",
        "# 夜のあいさつを出力する関数を作成する\n",
        "def say_good_evening():\n",
        "    print(\"こんばんは！\")\n",
        "    print(\"今日も一日お疲れさまでした。\")\n",
        "\n",
        "say_good_morning()\n",
        "\n",
        "say_good_evening()\n"
      ],
      "metadata": {
        "colab": {
          "base_uri": "https://localhost:8080/"
        },
        "id": "1OOmuh_ueqlc",
        "outputId": "c502c6e8-b083-41f9-936f-6290cdefc63b"
      },
      "execution_count": 8,
      "outputs": [
        {
          "output_type": "stream",
          "name": "stdout",
          "text": [
            "おはようございます！\n",
            "昨日はよく眠れましたか？\n",
            "今日も一日頑張りましょう！\n",
            "こんばんは！\n",
            "今日も一日お疲れさまでした。\n"
          ]
        }
      ]
    }
  ]
}