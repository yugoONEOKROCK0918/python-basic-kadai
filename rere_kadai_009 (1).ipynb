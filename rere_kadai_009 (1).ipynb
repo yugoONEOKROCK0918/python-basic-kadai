{
  "nbformat": 4,
  "nbformat_minor": 0,
  "metadata": {
    "colab": {
      "provenance": []
    },
    "kernelspec": {
      "name": "python3",
      "display_name": "Python 3"
    },
    "language_info": {
      "name": "python"
    }
  },
  "cells": [
    {
      "cell_type": "code",
      "execution_count": null,
      "metadata": {
        "id": "koRrsFPXskFK"
      },
      "outputs": [],
      "source": [
        "array = [\"水\",\"金\",\"地\",\"火\",\"木\",\"土\",\"天\",\"海\",\"冥\"]\n",
        "for y in array:\n",
        "    print(y)\n",
        "\n",
        "# カウント変数宣言\n",
        "c=0\n",
        "\n",
        "list_length=9\n",
        "\n",
        "while c<list_length:\n",
        "  #  cがリストの長さを超えたら終了するようにする。\n",
        "    print(array[c])\n",
        "    c=c+1\n"
      ]
    }
  ]
}