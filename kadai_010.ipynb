{
  "nbformat": 4,
  "nbformat_minor": 0,
  "metadata": {
    "colab": {
      "provenance": []
    },
    "kernelspec": {
      "name": "python3",
      "display_name": "Python 3"
    },
    "language_info": {
      "name": "python"
    }
  },
  "cells": [
    {
      "cell_type": "code",
      "execution_count": 5,
      "metadata": {
        "colab": {
          "base_uri": "https://localhost:8080/"
        },
        "id": "7Fx2zLlM0gvj",
        "outputId": "98f0a988-0f48-47a6-a3ae-5dca93f3be05"
      },
      "outputs": [
        {
          "output_type": "stream",
          "name": "stdout",
          "text": [
            "121.0円\n"
          ]
        }
      ],
      "source": [
        "def caluculate_total(price,tax):\n",
        "  return price*tax/100+price\n",
        "\n",
        "total=caluculate_total(110,10)\n",
        "print(f\"{total}円\")\n"
      ]
    }
  ]
}