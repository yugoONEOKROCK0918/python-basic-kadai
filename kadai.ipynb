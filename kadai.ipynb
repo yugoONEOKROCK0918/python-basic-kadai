{
  "nbformat": 4,
  "nbformat_minor": 0,
  "metadata": {
    "colab": {
      "provenance": []
    },
    "kernelspec": {
      "name": "python3",
      "display_name": "Python 3"
    },
    "language_info": {
      "name": "python"
    }
  },
  "cells": [
    {
      "cell_type": "code",
      "execution_count": null,
      "metadata": {
        "id": "vwKH7l_IOq8J"
      },
      "outputs": [],
      "source": [
        "top=10\n",
        "bottom=20\n",
        "height=5\n",
        "trapezoid_formula=((top+bottom)*height/2)\n",
        "print(f\"{trapezoid_formula}cm²\")"
      ]
    }
  ]
}