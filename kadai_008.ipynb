{
  "nbformat": 4,
  "nbformat_minor": 0,
  "metadata": {
    "colab": {
      "provenance": []
    },
    "kernelspec": {
      "name": "python3",
      "display_name": "Python 3"
    },
    "language_info": {
      "name": "python"
    }
  },
  "cells": [
    {
      "cell_type": "code",
      "execution_count": 8,
      "metadata": {
        "colab": {
          "base_uri": "https://localhost:8080/"
        },
        "id": "uDVo2P3RUY1k",
        "outputId": "86b6ce2d-2c0c-4e80-f2bf-0b5a7f50d477"
      },
      "outputs": [
        {
          "output_type": "stream",
          "name": "stdout",
          "text": [
            "88\n"
          ]
        }
      ],
      "source": [
        "import random\n",
        "var=random.randint(1,101)\n",
        "\n",
        "if var % 3==0 :\n",
        "  print(\"Fizz\")\n",
        "\n",
        "elif var % 5==0:\n",
        "  print(\"Buzz\")\n",
        "\n",
        "elif var % 3==0 and var % 5 ==0:\n",
        "  print(\"FizzBuzz\")\n",
        "\n",
        "else :\n",
        "  print(var)\n",
        "\n",
        "\n"
      ]
    },
    {
      "cell_type": "code",
      "source": [],
      "metadata": {
        "id": "r6YMlO3eVX_D"
      },
      "execution_count": null,
      "outputs": []
    }
  ]
}