{
  "nbformat": 4,
  "nbformat_minor": 0,
  "metadata": {
    "colab": {
      "provenance": []
    },
    "kernelspec": {
      "name": "python3",
      "display_name": "Python 3"
    },
    "language_info": {
      "name": "python"
    }
  },
  "cells": [
    {
      "cell_type": "code",
      "execution_count": 41,
      "metadata": {
        "colab": {
          "base_uri": "https://localhost:8080/"
        },
        "id": "uDVo2P3RUY1k",
        "outputId": "a1d0dafe-e3d0-497a-f588-a006482b6685"
      },
      "outputs": [
        {
          "output_type": "stream",
          "name": "stdout",
          "text": [
            "Fizz\n"
          ]
        }
      ],
      "source": [
        "import random\n",
        "var=random.randint(1,101)\n",
        "\n",
        "if var % 3==0 and var % 5 ==0:\n",
        "  print(\"FizzBuzz\")\n",
        "\n",
        "elif var % 5==0:\n",
        "  print(\"Buzz\")\n",
        "\n",
        "elif var % 3==0 :\n",
        "  print(\"Fizz\")\n",
        "\n",
        "else :\n",
        "  print(var)\n",
        "\n",
        "\n"
      ]
    },
    {
      "cell_type": "code",
      "source": [],
      "metadata": {
        "id": "r6YMlO3eVX_D"
      },
      "execution_count": null,
      "outputs": []
    }
  ]
}